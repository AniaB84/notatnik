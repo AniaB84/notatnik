{
 "cells": [
  {
   "cell_type": "code",
   "execution_count": 13,
   "id": "9ea3884e-9ee9-4028-ac22-e13ef65c7feb",
   "metadata": {},
   "outputs": [
    {
     "name": "stdout",
     "output_type": "stream",
     "text": [
      "Suma liczb od 1 do 40 to: 820\n"
     ]
    }
   ],
   "source": [
    "import pandas as pd\n",
    "pd.__version__\n",
    "import numpy as np\n",
    "np.__version__\n",
    "\n",
    "def generator_od_1_do_N(N):\n",
    "    for i in range(1, N+1):\n",
    "        yield i\n",
    "\n",
    "N = 40\n",
    "suma = sum(generator_od_1_do_N(N))\n",
    "\n",
    "print(\"Suma liczb od 1 do\", N, \"to:\", suma)"
   ]
  },
  {
   "cell_type": "code",
   "execution_count": null,
   "id": "5bf362f4-8648-4d7f-aec3-a448703b1b31",
   "metadata": {},
   "outputs": [],
   "source": []
  }
 ],
 "metadata": {
  "kernelspec": {
   "display_name": "Python 3 (ipykernel)",
   "language": "python",
   "name": "python3"
  },
  "language_info": {
   "codemirror_mode": {
    "name": "ipython",
    "version": 3
   },
   "file_extension": ".py",
   "mimetype": "text/x-python",
   "name": "python",
   "nbconvert_exporter": "python",
   "pygments_lexer": "ipython3",
   "version": "3.11.7"
  }
 },
 "nbformat": 4,
 "nbformat_minor": 5
}
