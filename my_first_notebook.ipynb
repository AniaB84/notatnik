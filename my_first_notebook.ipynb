{
 "cells": [
  {
   "cell_type": "markdown",
   "id": "2f978ca0",
   "metadata": {},
   "source": [
    "Funkcje definiuje się używając słowa def"
   ]
  },
  {
   "cell_type": "markdown",
   "id": "60c92152",
   "metadata": {},
   "source": [
    "def hello(): my_name = \"Anula\" return f'Hej jak sie masz? {my_name}!'"
   ]
  },
  {
   "cell_type": "markdown",
   "id": "b52a1c37",
   "metadata": {},
   "source": [
    "hello()\n"
   ]
  },
  {
   "cell_type": "markdown",
   "id": "38ef96da",
   "metadata": {},
   "source": [
    "'Hej jak sie masz? Anula!'"
   ]
  },
  {
   "cell_type": "markdown",
   "id": "1a5c3492",
   "metadata": {},
   "source": [
    "Kiedy wywołujemy funkcję, kolejno wołane są instrukcje jej ciała."
   ]
  }
 ],
 "metadata": {
  "kernelspec": {
   "display_name": "Python 3 (ipykernel)",
   "language": "python",
   "name": "python3"
  },
  "language_info": {
   "codemirror_mode": {
    "name": "ipython",
    "version": 3
   },
   "file_extension": ".py",
   "mimetype": "text/x-python",
   "name": "python",
   "nbconvert_exporter": "python",
   "pygments_lexer": "ipython3",
   "version": "3.11.7"
  }
 },
 "nbformat": 4,
 "nbformat_minor": 5
}
