{
 "cells": [
  {
   "cell_type": "markdown",
   "id": "2f978ca0",
   "metadata": {},
   "source": [
    "Funkcje definiuje się używając słowa def"
   ]
  },
  {
   "cell_type": "markdown",
   "id": "60c92152",
   "metadata": {},
   "source": [
    "def hello(): my_name = \"Anula\" return f'Hej jak sie masz? {my_name}!'"
   ]
  },
  {
   "cell_type": "markdown",
   "id": "b52a1c37",
   "metadata": {},
   "source": [
    "hello()\n"
   ]
  },
  {
   "cell_type": "markdown",
   "id": "38ef96da",
   "metadata": {},
   "source": [
    "'Hej jak sie masz? Anula!'"
   ]
  },
  {
   "cell_type": "markdown",
   "id": "1fb44e55",
   "metadata": {},
   "source": []
  },
  {
   "cell_type": "markdown",
   "id": "1a5c3492",
   "metadata": {},
   "source": [
    "Kiedy wywołujemy funkcję, kolejno wołane są instrukcje jej ciała."
   ]
  },
  {
   "cell_type": "markdown",
   "id": "47687e8f",
   "metadata": {},
   "source": [
    "salaries = [\n",
    "    (\"Mark\", 1000),\n",
    "    (\"John\", 1500),\n",
    "    (\"Daniel\", 2300),\n",
    "    (\"Greg\", 5000)\n",
    "]\n"
   ]
  },
  {
   "cell_type": "markdown",
   "id": "f04f066e",
   "metadata": {},
   "source": [
    "X = [0,1,2,3]\n",
    "Y = [0,1,0,1]\n",
    "plt.plot(X, Y)\n"
   ]
  },
  {
   "cell_type": "markdown",
   "id": "06629137",
   "metadata": {},
   "source": [
    "import matplotlib\n"
   ]
  },
  {
   "cell_type": "markdown",
   "id": "12934562",
   "metadata": {},
   "source": [
    "%matplotlib inline\n"
   ]
  },
  {
   "cell_type": "markdown",
   "id": "712151c3",
   "metadata": {},
   "source": [
    "import matplotlib.pyplot as plt\n"
   ]
  },
  {
   "cell_type": "markdown",
   "id": "6659a75d",
   "metadata": {},
   "source": [
    "salaries = [\n",
    "    (\"Mark\", 1000),\n",
    "    (\"John\", 1500),\n",
    "    (\"Daniel\", 2300),\n",
    "    (\"Greg\", 5000)\n",
    "]\n"
   ]
  },
  {
   "cell_type": "markdown",
   "id": "85fd91b7",
   "metadata": {},
   "source": [
    "X = [0,1,2,3]\n",
    "Y = [0,1,0,1]\n",
    "plt.plot(X, Y)\n"
   ]
  }
 ],
 "metadata": {
  "kernelspec": {
   "display_name": "Python 3 (ipykernel)",
   "language": "python",
   "name": "python3"
  },
  "language_info": {
   "codemirror_mode": {
    "name": "ipython",
    "version": 3
   },
   "file_extension": ".py",
   "mimetype": "text/x-python",
   "name": "python",
   "nbconvert_exporter": "python",
   "pygments_lexer": "ipython3",
   "version": "3.11.7"
  }
 },
 "nbformat": 4,
 "nbformat_minor": 5
}
